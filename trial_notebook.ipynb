{
 "cells": [
  {
   "cell_type": "code",
   "execution_count": 1,
   "metadata": {},
   "outputs": [],
   "source": [
    "from data_script_new import extract_flight_info_from_query,get_flight_info,extract_data_json,parse_json_to_df,convert_duration,calculate_layover,process_dataframe\n",
    "import json"
   ]
  },
  {
   "cell_type": "code",
   "execution_count": 2,
   "metadata": {},
   "outputs": [],
   "source": [
    "query = \"give me cheapest flight from Bangalore to Mumbai on 10th June\""
   ]
  },
  {
   "cell_type": "code",
   "execution_count": 3,
   "metadata": {},
   "outputs": [
    {
     "data": {
      "text/plain": [
       "{'location_origin': 'BLR',\n",
       " 'location_destination': 'BOM',\n",
       " 'departure_date': '2024-06-10',\n",
       " 'adults': 1}"
      ]
     },
     "execution_count": 3,
     "metadata": {},
     "output_type": "execute_result"
    }
   ],
   "source": [
    "result = extract_flight_info_from_query(query)\n",
    "result"
   ]
  },
  {
   "cell_type": "code",
   "execution_count": 4,
   "metadata": {},
   "outputs": [],
   "source": [
    "origin = result['location_origin']\n",
    "destination = result['location_destination']\n",
    "departure_date = result['departure_date']\n",
    "adults = result['adults']"
   ]
  },
  {
   "cell_type": "code",
   "execution_count": 5,
   "metadata": {},
   "outputs": [],
   "source": [
    "flight_info = get_flight_info(origin, destination, departure_date)"
   ]
  },
  {
   "cell_type": "code",
   "execution_count": null,
   "metadata": {},
   "outputs": [],
   "source": []
  },
  {
   "cell_type": "code",
   "execution_count": 31,
   "metadata": {},
   "outputs": [
    {
     "name": "stdout",
     "output_type": "stream",
     "text": [
      "Information extracted from query :  {'location_origin': 'BLR', 'location_destination': 'BOM', 'departure_date': '2024-06-10', 'adults': 1}\n",
      "*****************************************************************************************************************************\n"
     ]
    }
   ],
   "source": [
    "result = extract_flight_info_from_query(query)\n",
    "print(\"Information extracted from query : \",result)\n",
    "print(\"*\"*125)\n",
    "\n",
    "origin = result['location_origin']\n",
    "destination = result['location_destination']\n",
    "departure_date = result['departure_date']\n",
    "adults = result['adults']\n",
    "\n",
    "flight_info = get_flight_info(origin, destination, departure_date)\n",
    "\n",
    "clean_json = [extract_data_json(x) for x in flight_info]\n",
    "list_of_dicts = [json.loads(json_str) for json_str in clean_json]\n",
    "\n",
    "flight_df = parse_json_to_df(list_of_dicts)\n",
    "final_df = process_dataframe(flight_df)"
   ]
  },
  {
   "cell_type": "code",
   "execution_count": 32,
   "metadata": {},
   "outputs": [
    {
     "data": {
      "text/html": [
       "<div>\n",
       "<style scoped>\n",
       "    .dataframe tbody tr th:only-of-type {\n",
       "        vertical-align: middle;\n",
       "    }\n",
       "\n",
       "    .dataframe tbody tr th {\n",
       "        vertical-align: top;\n",
       "    }\n",
       "\n",
       "    .dataframe thead th {\n",
       "        text-align: right;\n",
       "    }\n",
       "</style>\n",
       "<table border=\"1\" class=\"dataframe\">\n",
       "  <thead>\n",
       "    <tr style=\"text-align: right;\">\n",
       "      <th></th>\n",
       "      <th>Total Journey Duration</th>\n",
       "      <th>price_currency</th>\n",
       "      <th>price_total</th>\n",
       "      <th>Origin Departure Location</th>\n",
       "      <th>origin_departure_time</th>\n",
       "      <th>First Arrival Location</th>\n",
       "      <th>origin_arrival_time</th>\n",
       "      <th>First Flight Duration</th>\n",
       "      <th>hop1_departure_location</th>\n",
       "      <th>hop1_departure_time</th>\n",
       "      <th>hop1_arrival_location</th>\n",
       "      <th>hop1_arrival_time</th>\n",
       "      <th>hop1_duration</th>\n",
       "      <th>number_of_hops</th>\n",
       "      <th>layover_1_duration</th>\n",
       "      <th>origin_airline</th>\n",
       "      <th>hop1_airline</th>\n",
       "    </tr>\n",
       "  </thead>\n",
       "  <tbody>\n",
       "    <tr>\n",
       "      <th>0</th>\n",
       "      <td>0 days 01:40:00</td>\n",
       "      <td>EUR</td>\n",
       "      <td>59.65</td>\n",
       "      <td>BLR</td>\n",
       "      <td>2024-06-10T08:30:00</td>\n",
       "      <td>BOM</td>\n",
       "      <td>2024-06-10T10:10:00</td>\n",
       "      <td>0 days 01:40:00</td>\n",
       "      <td>NaN</td>\n",
       "      <td>NaN</td>\n",
       "      <td>NaN</td>\n",
       "      <td>NaN</td>\n",
       "      <td>NaT</td>\n",
       "      <td>0</td>\n",
       "      <td>NaT</td>\n",
       "      <td>Vistara</td>\n",
       "      <td>NaN</td>\n",
       "    </tr>\n",
       "    <tr>\n",
       "      <th>1</th>\n",
       "      <td>0 days 01:45:00</td>\n",
       "      <td>EUR</td>\n",
       "      <td>59.65</td>\n",
       "      <td>BLR</td>\n",
       "      <td>2024-06-10T06:40:00</td>\n",
       "      <td>BOM</td>\n",
       "      <td>2024-06-10T08:25:00</td>\n",
       "      <td>0 days 01:45:00</td>\n",
       "      <td>NaN</td>\n",
       "      <td>NaN</td>\n",
       "      <td>NaN</td>\n",
       "      <td>NaN</td>\n",
       "      <td>NaT</td>\n",
       "      <td>0</td>\n",
       "      <td>NaT</td>\n",
       "      <td>Vistara</td>\n",
       "      <td>NaN</td>\n",
       "    </tr>\n",
       "    <tr>\n",
       "      <th>2</th>\n",
       "      <td>0 days 01:45:00</td>\n",
       "      <td>EUR</td>\n",
       "      <td>59.65</td>\n",
       "      <td>BLR</td>\n",
       "      <td>2024-06-10T21:35:00</td>\n",
       "      <td>BOM</td>\n",
       "      <td>2024-06-10T23:20:00</td>\n",
       "      <td>0 days 01:45:00</td>\n",
       "      <td>NaN</td>\n",
       "      <td>NaN</td>\n",
       "      <td>NaN</td>\n",
       "      <td>NaN</td>\n",
       "      <td>NaT</td>\n",
       "      <td>0</td>\n",
       "      <td>NaT</td>\n",
       "      <td>Vistara</td>\n",
       "      <td>NaN</td>\n",
       "    </tr>\n",
       "    <tr>\n",
       "      <th>3</th>\n",
       "      <td>0 days 01:50:00</td>\n",
       "      <td>EUR</td>\n",
       "      <td>59.65</td>\n",
       "      <td>BLR</td>\n",
       "      <td>2024-06-10T18:25:00</td>\n",
       "      <td>BOM</td>\n",
       "      <td>2024-06-10T20:15:00</td>\n",
       "      <td>0 days 01:50:00</td>\n",
       "      <td>NaN</td>\n",
       "      <td>NaN</td>\n",
       "      <td>NaN</td>\n",
       "      <td>NaN</td>\n",
       "      <td>NaT</td>\n",
       "      <td>0</td>\n",
       "      <td>NaT</td>\n",
       "      <td>Vistara</td>\n",
       "      <td>NaN</td>\n",
       "    </tr>\n",
       "    <tr>\n",
       "      <th>4</th>\n",
       "      <td>0 days 01:45:00</td>\n",
       "      <td>EUR</td>\n",
       "      <td>60.70</td>\n",
       "      <td>BLR</td>\n",
       "      <td>2024-06-10T19:00:00</td>\n",
       "      <td>BOM</td>\n",
       "      <td>2024-06-10T20:45:00</td>\n",
       "      <td>0 days 01:45:00</td>\n",
       "      <td>NaN</td>\n",
       "      <td>NaN</td>\n",
       "      <td>NaN</td>\n",
       "      <td>NaN</td>\n",
       "      <td>NaT</td>\n",
       "      <td>0</td>\n",
       "      <td>NaT</td>\n",
       "      <td>Vistara</td>\n",
       "      <td>NaN</td>\n",
       "    </tr>\n",
       "    <tr>\n",
       "      <th>...</th>\n",
       "      <td>...</td>\n",
       "      <td>...</td>\n",
       "      <td>...</td>\n",
       "      <td>...</td>\n",
       "      <td>...</td>\n",
       "      <td>...</td>\n",
       "      <td>...</td>\n",
       "      <td>...</td>\n",
       "      <td>...</td>\n",
       "      <td>...</td>\n",
       "      <td>...</td>\n",
       "      <td>...</td>\n",
       "      <td>...</td>\n",
       "      <td>...</td>\n",
       "      <td>...</td>\n",
       "      <td>...</td>\n",
       "      <td>...</td>\n",
       "    </tr>\n",
       "    <tr>\n",
       "      <th>65</th>\n",
       "      <td>0 days 18:45:00</td>\n",
       "      <td>EUR</td>\n",
       "      <td>435.77</td>\n",
       "      <td>BLR</td>\n",
       "      <td>2024-06-10T02:00:00</td>\n",
       "      <td>DEL</td>\n",
       "      <td>2024-06-10T04:45:00</td>\n",
       "      <td>0 days 02:45:00</td>\n",
       "      <td>DEL</td>\n",
       "      <td>2024-06-10T18:20:00</td>\n",
       "      <td>BOM</td>\n",
       "      <td>2024-06-10T20:45:00</td>\n",
       "      <td>0 days 02:25:00</td>\n",
       "      <td>1</td>\n",
       "      <td>0 days 13:35:00</td>\n",
       "      <td>HAHN AIR SYSTEMS</td>\n",
       "      <td>HAHN AIR SYSTEMS</td>\n",
       "    </tr>\n",
       "    <tr>\n",
       "      <th>66</th>\n",
       "      <td>0 days 19:25:00</td>\n",
       "      <td>EUR</td>\n",
       "      <td>435.77</td>\n",
       "      <td>BLR</td>\n",
       "      <td>2024-06-10T02:00:00</td>\n",
       "      <td>DEL</td>\n",
       "      <td>2024-06-10T04:45:00</td>\n",
       "      <td>0 days 02:45:00</td>\n",
       "      <td>DEL</td>\n",
       "      <td>2024-06-10T19:00:00</td>\n",
       "      <td>BOM</td>\n",
       "      <td>2024-06-10T21:25:00</td>\n",
       "      <td>0 days 02:25:00</td>\n",
       "      <td>1</td>\n",
       "      <td>0 days 14:15:00</td>\n",
       "      <td>HAHN AIR SYSTEMS</td>\n",
       "      <td>HAHN AIR SYSTEMS</td>\n",
       "    </tr>\n",
       "    <tr>\n",
       "      <th>67</th>\n",
       "      <td>1 days 00:35:00</td>\n",
       "      <td>EUR</td>\n",
       "      <td>435.77</td>\n",
       "      <td>BLR</td>\n",
       "      <td>2024-06-10T20:10:00</td>\n",
       "      <td>DEL</td>\n",
       "      <td>2024-06-10T23:10:00</td>\n",
       "      <td>0 days 03:00:00</td>\n",
       "      <td>DEL</td>\n",
       "      <td>2024-06-11T18:20:00</td>\n",
       "      <td>BOM</td>\n",
       "      <td>2024-06-11T20:45:00</td>\n",
       "      <td>0 days 02:25:00</td>\n",
       "      <td>1</td>\n",
       "      <td>0 days 19:10:00</td>\n",
       "      <td>HAHN AIR SYSTEMS</td>\n",
       "      <td>HAHN AIR SYSTEMS</td>\n",
       "    </tr>\n",
       "    <tr>\n",
       "      <th>68</th>\n",
       "      <td>1 days 01:15:00</td>\n",
       "      <td>EUR</td>\n",
       "      <td>435.77</td>\n",
       "      <td>BLR</td>\n",
       "      <td>2024-06-10T20:10:00</td>\n",
       "      <td>DEL</td>\n",
       "      <td>2024-06-10T23:10:00</td>\n",
       "      <td>0 days 03:00:00</td>\n",
       "      <td>DEL</td>\n",
       "      <td>2024-06-11T19:00:00</td>\n",
       "      <td>BOM</td>\n",
       "      <td>2024-06-11T21:25:00</td>\n",
       "      <td>0 days 02:25:00</td>\n",
       "      <td>1</td>\n",
       "      <td>0 days 19:50:00</td>\n",
       "      <td>HAHN AIR SYSTEMS</td>\n",
       "      <td>HAHN AIR SYSTEMS</td>\n",
       "    </tr>\n",
       "    <tr>\n",
       "      <th>69</th>\n",
       "      <td>0 days 20:15:00</td>\n",
       "      <td>EUR</td>\n",
       "      <td>467.27</td>\n",
       "      <td>BLR</td>\n",
       "      <td>2024-06-10T05:40:00</td>\n",
       "      <td>CCU</td>\n",
       "      <td>2024-06-10T08:20:00</td>\n",
       "      <td>0 days 02:40:00</td>\n",
       "      <td>CCU</td>\n",
       "      <td>2024-06-10T23:25:00</td>\n",
       "      <td>BOM</td>\n",
       "      <td>2024-06-11T01:55:00</td>\n",
       "      <td>0 days 02:30:00</td>\n",
       "      <td>1</td>\n",
       "      <td>0 days 15:05:00</td>\n",
       "      <td>HAHN AIR SYSTEMS</td>\n",
       "      <td>HAHN AIR SYSTEMS</td>\n",
       "    </tr>\n",
       "  </tbody>\n",
       "</table>\n",
       "<p>70 rows × 17 columns</p>\n",
       "</div>"
      ],
      "text/plain": [
       "   Total Journey Duration price_currency price_total  \\\n",
       "0         0 days 01:40:00            EUR       59.65   \n",
       "1         0 days 01:45:00            EUR       59.65   \n",
       "2         0 days 01:45:00            EUR       59.65   \n",
       "3         0 days 01:50:00            EUR       59.65   \n",
       "4         0 days 01:45:00            EUR       60.70   \n",
       "..                    ...            ...         ...   \n",
       "65        0 days 18:45:00            EUR      435.77   \n",
       "66        0 days 19:25:00            EUR      435.77   \n",
       "67        1 days 00:35:00            EUR      435.77   \n",
       "68        1 days 01:15:00            EUR      435.77   \n",
       "69        0 days 20:15:00            EUR      467.27   \n",
       "\n",
       "   Origin Departure Location origin_departure_time First Arrival Location  \\\n",
       "0                        BLR   2024-06-10T08:30:00                    BOM   \n",
       "1                        BLR   2024-06-10T06:40:00                    BOM   \n",
       "2                        BLR   2024-06-10T21:35:00                    BOM   \n",
       "3                        BLR   2024-06-10T18:25:00                    BOM   \n",
       "4                        BLR   2024-06-10T19:00:00                    BOM   \n",
       "..                       ...                   ...                    ...   \n",
       "65                       BLR   2024-06-10T02:00:00                    DEL   \n",
       "66                       BLR   2024-06-10T02:00:00                    DEL   \n",
       "67                       BLR   2024-06-10T20:10:00                    DEL   \n",
       "68                       BLR   2024-06-10T20:10:00                    DEL   \n",
       "69                       BLR   2024-06-10T05:40:00                    CCU   \n",
       "\n",
       "    origin_arrival_time First Flight Duration hop1_departure_location  \\\n",
       "0   2024-06-10T10:10:00       0 days 01:40:00                     NaN   \n",
       "1   2024-06-10T08:25:00       0 days 01:45:00                     NaN   \n",
       "2   2024-06-10T23:20:00       0 days 01:45:00                     NaN   \n",
       "3   2024-06-10T20:15:00       0 days 01:50:00                     NaN   \n",
       "4   2024-06-10T20:45:00       0 days 01:45:00                     NaN   \n",
       "..                  ...                   ...                     ...   \n",
       "65  2024-06-10T04:45:00       0 days 02:45:00                     DEL   \n",
       "66  2024-06-10T04:45:00       0 days 02:45:00                     DEL   \n",
       "67  2024-06-10T23:10:00       0 days 03:00:00                     DEL   \n",
       "68  2024-06-10T23:10:00       0 days 03:00:00                     DEL   \n",
       "69  2024-06-10T08:20:00       0 days 02:40:00                     CCU   \n",
       "\n",
       "    hop1_departure_time hop1_arrival_location    hop1_arrival_time  \\\n",
       "0                   NaN                   NaN                  NaN   \n",
       "1                   NaN                   NaN                  NaN   \n",
       "2                   NaN                   NaN                  NaN   \n",
       "3                   NaN                   NaN                  NaN   \n",
       "4                   NaN                   NaN                  NaN   \n",
       "..                  ...                   ...                  ...   \n",
       "65  2024-06-10T18:20:00                   BOM  2024-06-10T20:45:00   \n",
       "66  2024-06-10T19:00:00                   BOM  2024-06-10T21:25:00   \n",
       "67  2024-06-11T18:20:00                   BOM  2024-06-11T20:45:00   \n",
       "68  2024-06-11T19:00:00                   BOM  2024-06-11T21:25:00   \n",
       "69  2024-06-10T23:25:00                   BOM  2024-06-11T01:55:00   \n",
       "\n",
       "     hop1_duration  number_of_hops layover_1_duration    origin_airline  \\\n",
       "0              NaT               0                NaT           Vistara   \n",
       "1              NaT               0                NaT           Vistara   \n",
       "2              NaT               0                NaT           Vistara   \n",
       "3              NaT               0                NaT           Vistara   \n",
       "4              NaT               0                NaT           Vistara   \n",
       "..             ...             ...                ...               ...   \n",
       "65 0 days 02:25:00               1    0 days 13:35:00  HAHN AIR SYSTEMS   \n",
       "66 0 days 02:25:00               1    0 days 14:15:00  HAHN AIR SYSTEMS   \n",
       "67 0 days 02:25:00               1    0 days 19:10:00  HAHN AIR SYSTEMS   \n",
       "68 0 days 02:25:00               1    0 days 19:50:00  HAHN AIR SYSTEMS   \n",
       "69 0 days 02:30:00               1    0 days 15:05:00  HAHN AIR SYSTEMS   \n",
       "\n",
       "        hop1_airline  \n",
       "0                NaN  \n",
       "1                NaN  \n",
       "2                NaN  \n",
       "3                NaN  \n",
       "4                NaN  \n",
       "..               ...  \n",
       "65  HAHN AIR SYSTEMS  \n",
       "66  HAHN AIR SYSTEMS  \n",
       "67  HAHN AIR SYSTEMS  \n",
       "68  HAHN AIR SYSTEMS  \n",
       "69  HAHN AIR SYSTEMS  \n",
       "\n",
       "[70 rows x 17 columns]"
      ]
     },
     "execution_count": 32,
     "metadata": {},
     "output_type": "execute_result"
    }
   ],
   "source": [
    "final_df"
   ]
  },
  {
   "cell_type": "code",
   "execution_count": 6,
   "metadata": {},
   "outputs": [],
   "source": [
    "flight_1 = flight_info[0]"
   ]
  },
  {
   "cell_type": "code",
   "execution_count": 7,
   "metadata": {},
   "outputs": [],
   "source": [
    "from amadeus import Client, ResponseError\n",
    "\n",
    "amadeus = Client(\n",
    "    client_id='H4S446vjDRHVJn8C0ZDRkXSLt03AvOGp',\n",
    "    client_secret='2MCfJEBzkSLqYla0'\n",
    "\n",
    " )\n"
   ]
  },
  {
   "cell_type": "code",
   "execution_count": 11,
   "metadata": {},
   "outputs": [],
   "source": [
    "traveler = {\n",
    "    'id': '1',\n",
    "    'dateOfBirth': '1982-01-16',\n",
    "    'name': {\n",
    "        'firstName': 'JORGE',\n",
    "        'lastName': 'GONZALES'\n",
    "    },\n",
    "    'gender': 'MALE',\n",
    "    'contact': {\n",
    "        'emailAddress': 'jorge.gonzales833@telefonica.es',\n",
    "        'phones': [{\n",
    "            'deviceType': 'MOBILE',\n",
    "            'countryCallingCode': '34',\n",
    "            'number': '480080076'\n",
    "        }]\n",
    "    },\n",
    "    'documents': [{\n",
    "        'documentType': 'PASSPORT',\n",
    "        'birthPlace': 'Madrid',\n",
    "        'issuanceLocation': 'Madrid',\n",
    "        'issuanceDate': '2015-04-14',\n",
    "        'number': '00000000',\n",
    "        'expiryDate': '2025-04-14',\n",
    "        'issuanceCountry': 'ES',\n",
    "        'validityCountry': 'ES',\n",
    "        'nationality': 'ES',\n",
    "        'holder': True\n",
    "    }]\n",
    "}"
   ]
  },
  {
   "cell_type": "code",
   "execution_count": 20,
   "metadata": {},
   "outputs": [],
   "source": [
    "traveler_short = {\n",
    "    'id': '1',\n",
    "    'dateOfBirth': '1982-01-16',\n",
    "    'name': {\n",
    "        'firstName': 'JORGE',\n",
    "        'lastName': 'GONZALES'\n",
    "    },\n",
    "    'gender': 'MALE',\n",
    "    'contact': {\n",
    "        'emailAddress': 'jorge.gonzales833@telefonica.es',\n",
    "        'phones': [{\n",
    "            'deviceType': 'MOBILE',\n",
    "            'countryCallingCode': '34',\n",
    "            'number': '480080076'\n",
    "        }]\n",
    "    }\n",
    "}"
   ]
  },
  {
   "cell_type": "code",
   "execution_count": 16,
   "metadata": {},
   "outputs": [],
   "source": [
    "price_confirm = amadeus.shopping.flight_offers.pricing.post(\n",
    "        flight_1).data"
   ]
  },
  {
   "cell_type": "code",
   "execution_count": 17,
   "metadata": {},
   "outputs": [
    {
     "data": {
      "text/plain": [
       "{'type': 'flight-offers-pricing',\n",
       " 'flightOffers': [{'type': 'flight-offer',\n",
       "   'id': '1',\n",
       "   'source': 'GDS',\n",
       "   'instantTicketingRequired': False,\n",
       "   'nonHomogeneous': False,\n",
       "   'paymentCardRequired': False,\n",
       "   'lastTicketingDate': '2024-06-02',\n",
       "   'itineraries': [{'segments': [{'departure': {'iataCode': 'BLR',\n",
       "        'terminal': '2',\n",
       "        'at': '2024-06-10T08:30:00'},\n",
       "       'arrival': {'iataCode': 'BOM',\n",
       "        'terminal': '2',\n",
       "        'at': '2024-06-10T10:10:00'},\n",
       "       'carrierCode': 'UK',\n",
       "       'number': '846',\n",
       "       'aircraft': {'code': '320'},\n",
       "       'operating': {'carrierCode': 'UK'},\n",
       "       'duration': 'PT1H40M',\n",
       "       'id': '98',\n",
       "       'numberOfStops': 0,\n",
       "       'co2Emissions': [{'weight': 73,\n",
       "         'weightUnit': 'KG',\n",
       "         'cabin': 'ECONOMY'}]}]}],\n",
       "   'price': {'currency': 'EUR',\n",
       "    'total': '59.65',\n",
       "    'base': '46.00',\n",
       "    'fees': [{'amount': '0.00', 'type': 'SUPPLIER'},\n",
       "     {'amount': '0.00', 'type': 'TICKETING'},\n",
       "     {'amount': '0.00', 'type': 'FORM_OF_PAYMENT'}],\n",
       "    'grandTotal': '59.65',\n",
       "    'billingCurrency': 'EUR'},\n",
       "   'pricingOptions': {'fareType': ['PUBLISHED'],\n",
       "    'includedCheckedBagsOnly': True},\n",
       "   'validatingAirlineCodes': ['UK'],\n",
       "   'travelerPricings': [{'travelerId': '1',\n",
       "     'fareOption': 'STANDARD',\n",
       "     'travelerType': 'ADULT',\n",
       "     'price': {'currency': 'EUR',\n",
       "      'total': '59.65',\n",
       "      'base': '46.00',\n",
       "      'taxes': [{'amount': '2.62', 'code': 'P2'},\n",
       "       {'amount': '7.20', 'code': 'IN'},\n",
       "       {'amount': '2.38', 'code': 'K3'},\n",
       "       {'amount': '1.45', 'code': 'YR'}],\n",
       "      'refundableTaxes': '13.65'},\n",
       "     'fareDetailsBySegment': [{'segmentId': '98',\n",
       "       'cabin': 'ECONOMY',\n",
       "       'fareBasis': 'V0GRPRYS',\n",
       "       'brandedFare': 'ECOYS',\n",
       "       'class': 'V',\n",
       "       'includedCheckedBags': {'weight': 15, 'weightUnit': 'KG'}}]}]}],\n",
       " 'bookingRequirements': {'emailAddressRequired': True,\n",
       "  'mobilePhoneNumberRequired': True}}"
      ]
     },
     "execution_count": 17,
     "metadata": {},
     "output_type": "execute_result"
    }
   ],
   "source": [
    "price_confirm"
   ]
  },
  {
   "cell_type": "code",
   "execution_count": 19,
   "metadata": {},
   "outputs": [],
   "source": [
    "booked_flight = amadeus.booking.flight_orders.post(\n",
    "        flight_1, traveler_short).data"
   ]
  },
  {
   "cell_type": "code",
   "execution_count": 20,
   "metadata": {},
   "outputs": [
    {
     "data": {
      "text/plain": [
       "{'type': 'flight-order',\n",
       " 'id': 'eJzTd9cP83X39nUBAAuRAmw%3D',\n",
       " 'queuingOfficeId': 'NCE4D31SB',\n",
       " 'associatedRecords': [{'reference': 'VMGKMD',\n",
       "   'creationDate': '2024-05-31T08:34:00.000',\n",
       "   'originSystemCode': 'GDS',\n",
       "   'flightOfferId': '1'}],\n",
       " 'flightOffers': [{'type': 'flight-offer',\n",
       "   'id': '1',\n",
       "   'source': 'GDS',\n",
       "   'nonHomogeneous': False,\n",
       "   'lastTicketingDate': '2024-05-31',\n",
       "   'itineraries': [{'segments': [{'departure': {'iataCode': 'BLR',\n",
       "        'terminal': '2',\n",
       "        'at': '2024-06-10T08:30:00'},\n",
       "       'arrival': {'iataCode': 'BOM',\n",
       "        'terminal': '2',\n",
       "        'at': '2024-06-10T10:10:00'},\n",
       "       'carrierCode': 'UK',\n",
       "       'number': '846',\n",
       "       'aircraft': {'code': '320'},\n",
       "       'duration': 'PT1H40M',\n",
       "       'id': '98',\n",
       "       'numberOfStops': 0,\n",
       "       'co2Emissions': [{'weight': 73,\n",
       "         'weightUnit': 'KG',\n",
       "         'cabin': 'ECONOMY'}]}]}],\n",
       "   'price': {'currency': 'EUR',\n",
       "    'total': '59.65',\n",
       "    'base': '46.00',\n",
       "    'fees': [{'amount': '0.00', 'type': 'TICKETING'},\n",
       "     {'amount': '0.00', 'type': 'SUPPLIER'},\n",
       "     {'amount': '0.00', 'type': 'FORM_OF_PAYMENT'}],\n",
       "    'grandTotal': '59.65',\n",
       "    'billingCurrency': 'EUR'},\n",
       "   'pricingOptions': {'fareType': ['PUBLISHED'],\n",
       "    'includedCheckedBagsOnly': True},\n",
       "   'validatingAirlineCodes': ['UK'],\n",
       "   'travelerPricings': [{'travelerId': '1',\n",
       "     'fareOption': 'STANDARD',\n",
       "     'travelerType': 'ADULT',\n",
       "     'price': {'currency': 'EUR',\n",
       "      'total': '59.65',\n",
       "      'base': '46.00',\n",
       "      'taxes': [{'amount': '7.20', 'code': 'IN'},\n",
       "       {'amount': '2.38', 'code': 'K3'},\n",
       "       {'amount': '2.62', 'code': 'P2'},\n",
       "       {'amount': '1.45', 'code': 'YR'}],\n",
       "      'refundableTaxes': '13.65'},\n",
       "     'fareDetailsBySegment': [{'segmentId': '98',\n",
       "       'cabin': 'ECONOMY',\n",
       "       'fareBasis': 'V0GRPRYS',\n",
       "       'brandedFare': 'ECOYS',\n",
       "       'class': 'V',\n",
       "       'includedCheckedBags': {'weight': 15, 'weightUnit': 'KG'}}]}]}],\n",
       " 'travelers': [{'id': '1',\n",
       "   'dateOfBirth': '1982-01-16',\n",
       "   'gender': 'MALE',\n",
       "   'name': {'firstName': 'JORGE', 'lastName': 'GONZALES'},\n",
       "   'contact': {'purpose': 'STANDARD',\n",
       "    'phones': [{'deviceType': 'MOBILE',\n",
       "      'countryCallingCode': '34',\n",
       "      'number': '480080076'}],\n",
       "    'emailAddress': 'jorge.gonzales833@telefonica.es'}}],\n",
       " 'ticketingAgreement': {'option': 'CONFIRM'},\n",
       " 'automatedProcess': [{'code': 'IMMEDIATE',\n",
       "   'queue': {'number': '0', 'category': '0'},\n",
       "   'officeId': 'NCE4D31SB'}]}"
      ]
     },
     "execution_count": 20,
     "metadata": {},
     "output_type": "execute_result"
    }
   ],
   "source": [
    "booked_flight # 'id': 'eJzTd9cP8wl3ifAHAAvYAoo%3D' : used to get status\n",
    "\n",
    "# 'associatedRecords': [{'reference': 'VLWDXO' : PNR number"
   ]
  },
  {
   "cell_type": "markdown",
   "metadata": {},
   "source": [
    "# Delete order"
   ]
  },
  {
   "cell_type": "code",
   "execution_count": 63,
   "metadata": {},
   "outputs": [
    {
     "name": "stdout",
     "output_type": "stream",
     "text": [
      "None\n"
     ]
    }
   ],
   "source": [
    "response = amadeus.booking.flight_order('eJzTd9cPi3D08w0AAAvFAoA%3D').delete()\n",
    "print(response.data)"
   ]
  },
  {
   "cell_type": "code",
   "execution_count": 22,
   "metadata": {},
   "outputs": [
    {
     "data": {
      "text/plain": [
       "<amadeus.client.response.Response at 0x277609f5510>"
      ]
     },
     "execution_count": 22,
     "metadata": {},
     "output_type": "execute_result"
    }
   ],
   "source": [
    "response"
   ]
  },
  {
   "cell_type": "markdown",
   "metadata": {},
   "source": [
    "# track of original json"
   ]
  },
  {
   "cell_type": "code",
   "execution_count": 25,
   "metadata": {},
   "outputs": [],
   "source": [
    "import pandas as pd"
   ]
  },
  {
   "cell_type": "code",
   "execution_count": 24,
   "metadata": {},
   "outputs": [
    {
     "data": {
      "text/plain": [
       "dict"
      ]
     },
     "execution_count": 24,
     "metadata": {},
     "output_type": "execute_result"
    }
   ],
   "source": [
    "type(flight_info[0])"
   ]
  },
  {
   "cell_type": "code",
   "execution_count": 26,
   "metadata": {},
   "outputs": [
    {
     "data": {
      "text/html": [
       "<div>\n",
       "<style scoped>\n",
       "    .dataframe tbody tr th:only-of-type {\n",
       "        vertical-align: middle;\n",
       "    }\n",
       "\n",
       "    .dataframe tbody tr th {\n",
       "        vertical-align: top;\n",
       "    }\n",
       "\n",
       "    .dataframe thead th {\n",
       "        text-align: right;\n",
       "    }\n",
       "</style>\n",
       "<table border=\"1\" class=\"dataframe\">\n",
       "  <thead>\n",
       "    <tr style=\"text-align: right;\">\n",
       "      <th></th>\n",
       "      <th>type</th>\n",
       "      <th>id</th>\n",
       "      <th>source</th>\n",
       "      <th>instantTicketingRequired</th>\n",
       "      <th>nonHomogeneous</th>\n",
       "      <th>oneWay</th>\n",
       "      <th>lastTicketingDate</th>\n",
       "      <th>lastTicketingDateTime</th>\n",
       "      <th>numberOfBookableSeats</th>\n",
       "      <th>itineraries</th>\n",
       "      <th>price</th>\n",
       "      <th>pricingOptions</th>\n",
       "      <th>validatingAirlineCodes</th>\n",
       "      <th>travelerPricings</th>\n",
       "    </tr>\n",
       "  </thead>\n",
       "  <tbody>\n",
       "    <tr>\n",
       "      <th>0</th>\n",
       "      <td>flight-offer</td>\n",
       "      <td>1</td>\n",
       "      <td>GDS</td>\n",
       "      <td>False</td>\n",
       "      <td>False</td>\n",
       "      <td>False</td>\n",
       "      <td>2024-05-31</td>\n",
       "      <td>2024-05-31</td>\n",
       "      <td>9</td>\n",
       "      <td>[{'duration': 'PT1H40M', 'segments': [{'depart...</td>\n",
       "      <td>{'currency': 'EUR', 'total': '59.65', 'base': ...</td>\n",
       "      <td>{'fareType': ['PUBLISHED'], 'includedCheckedBa...</td>\n",
       "      <td>[UK]</td>\n",
       "      <td>[{'travelerId': '1', 'fareOption': 'STANDARD',...</td>\n",
       "    </tr>\n",
       "    <tr>\n",
       "      <th>1</th>\n",
       "      <td>flight-offer</td>\n",
       "      <td>2</td>\n",
       "      <td>GDS</td>\n",
       "      <td>False</td>\n",
       "      <td>False</td>\n",
       "      <td>False</td>\n",
       "      <td>2024-05-31</td>\n",
       "      <td>2024-05-31</td>\n",
       "      <td>9</td>\n",
       "      <td>[{'duration': 'PT1H45M', 'segments': [{'depart...</td>\n",
       "      <td>{'currency': 'EUR', 'total': '59.65', 'base': ...</td>\n",
       "      <td>{'fareType': ['PUBLISHED'], 'includedCheckedBa...</td>\n",
       "      <td>[UK]</td>\n",
       "      <td>[{'travelerId': '1', 'fareOption': 'STANDARD',...</td>\n",
       "    </tr>\n",
       "    <tr>\n",
       "      <th>2</th>\n",
       "      <td>flight-offer</td>\n",
       "      <td>3</td>\n",
       "      <td>GDS</td>\n",
       "      <td>False</td>\n",
       "      <td>False</td>\n",
       "      <td>False</td>\n",
       "      <td>2024-05-31</td>\n",
       "      <td>2024-05-31</td>\n",
       "      <td>9</td>\n",
       "      <td>[{'duration': 'PT1H45M', 'segments': [{'depart...</td>\n",
       "      <td>{'currency': 'EUR', 'total': '59.65', 'base': ...</td>\n",
       "      <td>{'fareType': ['PUBLISHED'], 'includedCheckedBa...</td>\n",
       "      <td>[UK]</td>\n",
       "      <td>[{'travelerId': '1', 'fareOption': 'STANDARD',...</td>\n",
       "    </tr>\n",
       "    <tr>\n",
       "      <th>3</th>\n",
       "      <td>flight-offer</td>\n",
       "      <td>4</td>\n",
       "      <td>GDS</td>\n",
       "      <td>False</td>\n",
       "      <td>False</td>\n",
       "      <td>False</td>\n",
       "      <td>2024-05-31</td>\n",
       "      <td>2024-05-31</td>\n",
       "      <td>9</td>\n",
       "      <td>[{'duration': 'PT1H50M', 'segments': [{'depart...</td>\n",
       "      <td>{'currency': 'EUR', 'total': '59.65', 'base': ...</td>\n",
       "      <td>{'fareType': ['PUBLISHED'], 'includedCheckedBa...</td>\n",
       "      <td>[UK]</td>\n",
       "      <td>[{'travelerId': '1', 'fareOption': 'STANDARD',...</td>\n",
       "    </tr>\n",
       "    <tr>\n",
       "      <th>4</th>\n",
       "      <td>flight-offer</td>\n",
       "      <td>5</td>\n",
       "      <td>GDS</td>\n",
       "      <td>False</td>\n",
       "      <td>False</td>\n",
       "      <td>False</td>\n",
       "      <td>2024-05-31</td>\n",
       "      <td>2024-05-31</td>\n",
       "      <td>9</td>\n",
       "      <td>[{'duration': 'PT1H45M', 'segments': [{'depart...</td>\n",
       "      <td>{'currency': 'EUR', 'total': '60.70', 'base': ...</td>\n",
       "      <td>{'fareType': ['PUBLISHED'], 'includedCheckedBa...</td>\n",
       "      <td>[UK]</td>\n",
       "      <td>[{'travelerId': '1', 'fareOption': 'STANDARD',...</td>\n",
       "    </tr>\n",
       "    <tr>\n",
       "      <th>...</th>\n",
       "      <td>...</td>\n",
       "      <td>...</td>\n",
       "      <td>...</td>\n",
       "      <td>...</td>\n",
       "      <td>...</td>\n",
       "      <td>...</td>\n",
       "      <td>...</td>\n",
       "      <td>...</td>\n",
       "      <td>...</td>\n",
       "      <td>...</td>\n",
       "      <td>...</td>\n",
       "      <td>...</td>\n",
       "      <td>...</td>\n",
       "      <td>...</td>\n",
       "    </tr>\n",
       "    <tr>\n",
       "      <th>65</th>\n",
       "      <td>flight-offer</td>\n",
       "      <td>66</td>\n",
       "      <td>GDS</td>\n",
       "      <td>False</td>\n",
       "      <td>False</td>\n",
       "      <td>False</td>\n",
       "      <td>2024-06-02</td>\n",
       "      <td>2024-06-02</td>\n",
       "      <td>9</td>\n",
       "      <td>[{'duration': 'PT18H45M', 'segments': [{'depar...</td>\n",
       "      <td>{'currency': 'EUR', 'total': '435.77', 'base':...</td>\n",
       "      <td>{'fareType': ['PUBLISHED'], 'includedCheckedBa...</td>\n",
       "      <td>[HR]</td>\n",
       "      <td>[{'travelerId': '1', 'fareOption': 'STANDARD',...</td>\n",
       "    </tr>\n",
       "    <tr>\n",
       "      <th>66</th>\n",
       "      <td>flight-offer</td>\n",
       "      <td>67</td>\n",
       "      <td>GDS</td>\n",
       "      <td>False</td>\n",
       "      <td>False</td>\n",
       "      <td>False</td>\n",
       "      <td>2024-06-02</td>\n",
       "      <td>2024-06-02</td>\n",
       "      <td>9</td>\n",
       "      <td>[{'duration': 'PT19H25M', 'segments': [{'depar...</td>\n",
       "      <td>{'currency': 'EUR', 'total': '435.77', 'base':...</td>\n",
       "      <td>{'fareType': ['PUBLISHED'], 'includedCheckedBa...</td>\n",
       "      <td>[HR]</td>\n",
       "      <td>[{'travelerId': '1', 'fareOption': 'STANDARD',...</td>\n",
       "    </tr>\n",
       "    <tr>\n",
       "      <th>67</th>\n",
       "      <td>flight-offer</td>\n",
       "      <td>68</td>\n",
       "      <td>GDS</td>\n",
       "      <td>False</td>\n",
       "      <td>False</td>\n",
       "      <td>False</td>\n",
       "      <td>2024-06-02</td>\n",
       "      <td>2024-06-02</td>\n",
       "      <td>9</td>\n",
       "      <td>[{'duration': 'PT24H35M', 'segments': [{'depar...</td>\n",
       "      <td>{'currency': 'EUR', 'total': '435.77', 'base':...</td>\n",
       "      <td>{'fareType': ['PUBLISHED'], 'includedCheckedBa...</td>\n",
       "      <td>[HR]</td>\n",
       "      <td>[{'travelerId': '1', 'fareOption': 'STANDARD',...</td>\n",
       "    </tr>\n",
       "    <tr>\n",
       "      <th>68</th>\n",
       "      <td>flight-offer</td>\n",
       "      <td>69</td>\n",
       "      <td>GDS</td>\n",
       "      <td>False</td>\n",
       "      <td>False</td>\n",
       "      <td>False</td>\n",
       "      <td>2024-06-02</td>\n",
       "      <td>2024-06-02</td>\n",
       "      <td>9</td>\n",
       "      <td>[{'duration': 'PT25H15M', 'segments': [{'depar...</td>\n",
       "      <td>{'currency': 'EUR', 'total': '435.77', 'base':...</td>\n",
       "      <td>{'fareType': ['PUBLISHED'], 'includedCheckedBa...</td>\n",
       "      <td>[HR]</td>\n",
       "      <td>[{'travelerId': '1', 'fareOption': 'STANDARD',...</td>\n",
       "    </tr>\n",
       "    <tr>\n",
       "      <th>69</th>\n",
       "      <td>flight-offer</td>\n",
       "      <td>70</td>\n",
       "      <td>GDS</td>\n",
       "      <td>False</td>\n",
       "      <td>False</td>\n",
       "      <td>False</td>\n",
       "      <td>2024-06-02</td>\n",
       "      <td>2024-06-02</td>\n",
       "      <td>9</td>\n",
       "      <td>[{'duration': 'PT20H15M', 'segments': [{'depar...</td>\n",
       "      <td>{'currency': 'EUR', 'total': '467.27', 'base':...</td>\n",
       "      <td>{'fareType': ['PUBLISHED'], 'includedCheckedBa...</td>\n",
       "      <td>[HR]</td>\n",
       "      <td>[{'travelerId': '1', 'fareOption': 'STANDARD',...</td>\n",
       "    </tr>\n",
       "  </tbody>\n",
       "</table>\n",
       "<p>70 rows × 14 columns</p>\n",
       "</div>"
      ],
      "text/plain": [
       "            type  id source  instantTicketingRequired  nonHomogeneous  oneWay  \\\n",
       "0   flight-offer   1    GDS                     False           False   False   \n",
       "1   flight-offer   2    GDS                     False           False   False   \n",
       "2   flight-offer   3    GDS                     False           False   False   \n",
       "3   flight-offer   4    GDS                     False           False   False   \n",
       "4   flight-offer   5    GDS                     False           False   False   \n",
       "..           ...  ..    ...                       ...             ...     ...   \n",
       "65  flight-offer  66    GDS                     False           False   False   \n",
       "66  flight-offer  67    GDS                     False           False   False   \n",
       "67  flight-offer  68    GDS                     False           False   False   \n",
       "68  flight-offer  69    GDS                     False           False   False   \n",
       "69  flight-offer  70    GDS                     False           False   False   \n",
       "\n",
       "   lastTicketingDate lastTicketingDateTime  numberOfBookableSeats  \\\n",
       "0         2024-05-31            2024-05-31                      9   \n",
       "1         2024-05-31            2024-05-31                      9   \n",
       "2         2024-05-31            2024-05-31                      9   \n",
       "3         2024-05-31            2024-05-31                      9   \n",
       "4         2024-05-31            2024-05-31                      9   \n",
       "..               ...                   ...                    ...   \n",
       "65        2024-06-02            2024-06-02                      9   \n",
       "66        2024-06-02            2024-06-02                      9   \n",
       "67        2024-06-02            2024-06-02                      9   \n",
       "68        2024-06-02            2024-06-02                      9   \n",
       "69        2024-06-02            2024-06-02                      9   \n",
       "\n",
       "                                          itineraries  \\\n",
       "0   [{'duration': 'PT1H40M', 'segments': [{'depart...   \n",
       "1   [{'duration': 'PT1H45M', 'segments': [{'depart...   \n",
       "2   [{'duration': 'PT1H45M', 'segments': [{'depart...   \n",
       "3   [{'duration': 'PT1H50M', 'segments': [{'depart...   \n",
       "4   [{'duration': 'PT1H45M', 'segments': [{'depart...   \n",
       "..                                                ...   \n",
       "65  [{'duration': 'PT18H45M', 'segments': [{'depar...   \n",
       "66  [{'duration': 'PT19H25M', 'segments': [{'depar...   \n",
       "67  [{'duration': 'PT24H35M', 'segments': [{'depar...   \n",
       "68  [{'duration': 'PT25H15M', 'segments': [{'depar...   \n",
       "69  [{'duration': 'PT20H15M', 'segments': [{'depar...   \n",
       "\n",
       "                                                price  \\\n",
       "0   {'currency': 'EUR', 'total': '59.65', 'base': ...   \n",
       "1   {'currency': 'EUR', 'total': '59.65', 'base': ...   \n",
       "2   {'currency': 'EUR', 'total': '59.65', 'base': ...   \n",
       "3   {'currency': 'EUR', 'total': '59.65', 'base': ...   \n",
       "4   {'currency': 'EUR', 'total': '60.70', 'base': ...   \n",
       "..                                                ...   \n",
       "65  {'currency': 'EUR', 'total': '435.77', 'base':...   \n",
       "66  {'currency': 'EUR', 'total': '435.77', 'base':...   \n",
       "67  {'currency': 'EUR', 'total': '435.77', 'base':...   \n",
       "68  {'currency': 'EUR', 'total': '435.77', 'base':...   \n",
       "69  {'currency': 'EUR', 'total': '467.27', 'base':...   \n",
       "\n",
       "                                       pricingOptions validatingAirlineCodes  \\\n",
       "0   {'fareType': ['PUBLISHED'], 'includedCheckedBa...                   [UK]   \n",
       "1   {'fareType': ['PUBLISHED'], 'includedCheckedBa...                   [UK]   \n",
       "2   {'fareType': ['PUBLISHED'], 'includedCheckedBa...                   [UK]   \n",
       "3   {'fareType': ['PUBLISHED'], 'includedCheckedBa...                   [UK]   \n",
       "4   {'fareType': ['PUBLISHED'], 'includedCheckedBa...                   [UK]   \n",
       "..                                                ...                    ...   \n",
       "65  {'fareType': ['PUBLISHED'], 'includedCheckedBa...                   [HR]   \n",
       "66  {'fareType': ['PUBLISHED'], 'includedCheckedBa...                   [HR]   \n",
       "67  {'fareType': ['PUBLISHED'], 'includedCheckedBa...                   [HR]   \n",
       "68  {'fareType': ['PUBLISHED'], 'includedCheckedBa...                   [HR]   \n",
       "69  {'fareType': ['PUBLISHED'], 'includedCheckedBa...                   [HR]   \n",
       "\n",
       "                                     travelerPricings  \n",
       "0   [{'travelerId': '1', 'fareOption': 'STANDARD',...  \n",
       "1   [{'travelerId': '1', 'fareOption': 'STANDARD',...  \n",
       "2   [{'travelerId': '1', 'fareOption': 'STANDARD',...  \n",
       "3   [{'travelerId': '1', 'fareOption': 'STANDARD',...  \n",
       "4   [{'travelerId': '1', 'fareOption': 'STANDARD',...  \n",
       "..                                                ...  \n",
       "65  [{'travelerId': '1', 'fareOption': 'STANDARD',...  \n",
       "66  [{'travelerId': '1', 'fareOption': 'STANDARD',...  \n",
       "67  [{'travelerId': '1', 'fareOption': 'STANDARD',...  \n",
       "68  [{'travelerId': '1', 'fareOption': 'STANDARD',...  \n",
       "69  [{'travelerId': '1', 'fareOption': 'STANDARD',...  \n",
       "\n",
       "[70 rows x 14 columns]"
      ]
     },
     "execution_count": 26,
     "metadata": {},
     "output_type": "execute_result"
    }
   ],
   "source": [
    "pd.DataFrame(flight_info)"
   ]
  },
  {
   "cell_type": "markdown",
   "metadata": {},
   "source": [
    "# Traveler info"
   ]
  },
  {
   "cell_type": "code",
   "execution_count": 9,
   "metadata": {},
   "outputs": [],
   "source": [
    "from langchain import LLMChain, OpenAI, PromptTemplate\n",
    "from langchain_openai import ChatOpenAI"
   ]
  },
  {
   "cell_type": "code",
   "execution_count": 52,
   "metadata": {},
   "outputs": [],
   "source": [
    "prompt_template = PromptTemplate(\n",
    "    template=\"\"\"\n",
    "    Extract the following information from the text and provide the output as a dictionary with the specified keys:\n",
    "    - First Name\n",
    "    - Last Name\n",
    "    - Date of Birth\n",
    "    - Gender\n",
    "    - Email Address\n",
    "    - Phone Number\n",
    "    - Country Calling Code\n",
    "\n",
    "    Text: \"{text}\"\n",
    "\n",
    "    Output dictionary format:\n",
    "    {{\n",
    "        \"id\": \"1\",\n",
    "        \"dateOfBirth\": \"<Date of Birth>\",\n",
    "        \"name\": {{\n",
    "            \"firstName\": \"<First Name>\" (This should be in capital letters),\n",
    "            \"lastName\": \"<Last Name>\" (This should be in capital letters)\n",
    "        }},\n",
    "        \"gender\": \"<Gender>\", (This should be in capital letters)\n",
    "        \"contact\": {{\n",
    "            \"emailAddress\": \"<Email Address>\",\n",
    "            \"phones\": [{{\n",
    "                \"deviceType\": \"MOBILE\",\n",
    "                \"countryCallingCode\": \"<Country Calling Code>\",\n",
    "                \"number\": \"<Phone Number>\"\n",
    "            }}]\n",
    "        }}\n",
    "    }}\n",
    "    \"\"\",\n",
    "    input_variables=[\"text\"]\n",
    ")\n"
   ]
  },
  {
   "cell_type": "code",
   "execution_count": 53,
   "metadata": {},
   "outputs": [],
   "source": [
    "llm = ChatOpenAI(model_name=\"gpt-3.5-turbo\")"
   ]
  },
  {
   "cell_type": "code",
   "execution_count": 54,
   "metadata": {},
   "outputs": [],
   "source": [
    "llm_chain = LLMChain(llm=llm, prompt=prompt_template)\n",
    "\n",
    "# Function to convert input text to JSON using GPT\n",
    "def convert_to_dict(text):\n",
    "    response = llm_chain.run(text=text).strip()\n",
    "    try:\n",
    "        # Directly parse the response into a dictionary\n",
    "        parsed_response = json.loads(response)\n",
    "        return parsed_response\n",
    "    except json.JSONDecodeError as e:\n",
    "        raise ValueError(f\"Failed to parse JSON from response: {response}\") from e"
   ]
  },
  {
   "cell_type": "code",
   "execution_count": 55,
   "metadata": {},
   "outputs": [
    {
     "name": "stdout",
     "output_type": "stream",
     "text": [
      "{'id': '1', 'dateOfBirth': '1982-01-16', 'name': {'firstName': 'SAURABH', 'lastName': 'BAIRAGI'}, 'gender': 'MALE', 'contact': {'emailAddress': 'xyz@example.com', 'phones': [{'deviceType': 'MOBILE', 'countryCallingCode': '91', 'number': '7771234567'}]}}\n",
      "<class 'dict'>\n"
     ]
    }
   ],
   "source": [
    "# Example input\n",
    "input_text = \"My name is Saurabh Bairagi, Male. I was born on 1982-01-16, email is xyz@example.com, and phone no. is 7771234567 with country code as 91\"\n",
    "\n",
    "# Convert input text to JSON\n",
    "traveler_short_dict = convert_to_dict(input_text)\n",
    "\n",
    "# Print the resulting JSON\n",
    "print(traveler_short_dict)\n",
    "\n",
    "# Verify that the output is a dictionary\n",
    "print(type(traveler_short_dict))\n"
   ]
  },
  {
   "cell_type": "code",
   "execution_count": 56,
   "metadata": {},
   "outputs": [
    {
     "data": {
      "text/plain": [
       "{'id': '1',\n",
       " 'dateOfBirth': '1982-01-16',\n",
       " 'name': {'firstName': 'SAURABH', 'lastName': 'BAIRAGI'},\n",
       " 'gender': 'MALE',\n",
       " 'contact': {'emailAddress': 'xyz@example.com',\n",
       "  'phones': [{'deviceType': 'MOBILE',\n",
       "    'countryCallingCode': '91',\n",
       "    'number': '7771234567'}]}}"
      ]
     },
     "execution_count": 56,
     "metadata": {},
     "output_type": "execute_result"
    }
   ],
   "source": [
    "traveler_short_dict"
   ]
  },
  {
   "cell_type": "code",
   "execution_count": 57,
   "metadata": {},
   "outputs": [
    {
     "data": {
      "text/plain": [
       "dict"
      ]
     },
     "execution_count": 57,
     "metadata": {},
     "output_type": "execute_result"
    }
   ],
   "source": [
    "type(traveler_short_dict)"
   ]
  },
  {
   "cell_type": "code",
   "execution_count": 58,
   "metadata": {},
   "outputs": [
    {
     "data": {
      "text/plain": [
       "{'id': '1',\n",
       " 'dateOfBirth': '1982-01-16',\n",
       " 'name': {'firstName': 'JORGE', 'lastName': 'GONZALES'},\n",
       " 'gender': 'MALE',\n",
       " 'contact': {'emailAddress': 'jorge.gonzales833@telefonica.es',\n",
       "  'phones': [{'deviceType': 'MOBILE',\n",
       "    'countryCallingCode': '34',\n",
       "    'number': '480080076'}]}}"
      ]
     },
     "execution_count": 58,
     "metadata": {},
     "output_type": "execute_result"
    }
   ],
   "source": [
    "(traveler_short)"
   ]
  },
  {
   "cell_type": "code",
   "execution_count": 59,
   "metadata": {},
   "outputs": [
    {
     "data": {
      "text/plain": [
       "dict"
      ]
     },
     "execution_count": 59,
     "metadata": {},
     "output_type": "execute_result"
    }
   ],
   "source": [
    "type(traveler_short)"
   ]
  },
  {
   "cell_type": "code",
   "execution_count": 60,
   "metadata": {},
   "outputs": [],
   "source": [
    "booked_flight = amadeus.booking.flight_orders.post(\n",
    "        flight_1, traveler_short_dict).data"
   ]
  },
  {
   "cell_type": "code",
   "execution_count": 61,
   "metadata": {},
   "outputs": [
    {
     "data": {
      "text/plain": [
       "{'type': 'flight-order',\n",
       " 'id': 'eJzTd9cPi3D08w0AAAvFAoA%3D',\n",
       " 'queuingOfficeId': 'NCE4D31SB',\n",
       " 'associatedRecords': [{'reference': 'VXANMP',\n",
       "   'creationDate': '2024-06-02T06:23:00.000',\n",
       "   'originSystemCode': 'GDS',\n",
       "   'flightOfferId': '1'}],\n",
       " 'flightOffers': [{'type': 'flight-offer',\n",
       "   'id': '1',\n",
       "   'source': 'GDS',\n",
       "   'nonHomogeneous': False,\n",
       "   'lastTicketingDate': '2024-06-02',\n",
       "   'itineraries': [{'segments': [{'departure': {'iataCode': 'BLR',\n",
       "        'terminal': '2',\n",
       "        'at': '2024-06-10T08:30:00'},\n",
       "       'arrival': {'iataCode': 'BOM',\n",
       "        'terminal': '2',\n",
       "        'at': '2024-06-10T10:10:00'},\n",
       "       'carrierCode': 'UK',\n",
       "       'number': '846',\n",
       "       'aircraft': {'code': '320'},\n",
       "       'duration': 'PT1H40M',\n",
       "       'id': '98',\n",
       "       'numberOfStops': 0,\n",
       "       'co2Emissions': [{'weight': 73,\n",
       "         'weightUnit': 'KG',\n",
       "         'cabin': 'ECONOMY'}]}]}],\n",
       "   'price': {'currency': 'EUR',\n",
       "    'total': '59.65',\n",
       "    'base': '46.00',\n",
       "    'fees': [{'amount': '0.00', 'type': 'TICKETING'},\n",
       "     {'amount': '0.00', 'type': 'SUPPLIER'},\n",
       "     {'amount': '0.00', 'type': 'FORM_OF_PAYMENT'}],\n",
       "    'grandTotal': '59.65',\n",
       "    'billingCurrency': 'EUR'},\n",
       "   'pricingOptions': {'fareType': ['PUBLISHED'],\n",
       "    'includedCheckedBagsOnly': True},\n",
       "   'validatingAirlineCodes': ['UK'],\n",
       "   'travelerPricings': [{'travelerId': '1',\n",
       "     'fareOption': 'STANDARD',\n",
       "     'travelerType': 'ADULT',\n",
       "     'price': {'currency': 'EUR',\n",
       "      'total': '59.65',\n",
       "      'base': '46.00',\n",
       "      'taxes': [{'amount': '7.20', 'code': 'IN'},\n",
       "       {'amount': '2.38', 'code': 'K3'},\n",
       "       {'amount': '2.62', 'code': 'P2'},\n",
       "       {'amount': '1.45', 'code': 'YR'}],\n",
       "      'refundableTaxes': '13.65'},\n",
       "     'fareDetailsBySegment': [{'segmentId': '98',\n",
       "       'cabin': 'ECONOMY',\n",
       "       'fareBasis': 'V0GRPRYS',\n",
       "       'brandedFare': 'ECOYS',\n",
       "       'class': 'V',\n",
       "       'includedCheckedBags': {'weight': 15, 'weightUnit': 'KG'}}]}]}],\n",
       " 'travelers': [{'id': '1',\n",
       "   'dateOfBirth': '1982-01-16',\n",
       "   'gender': 'MALE',\n",
       "   'name': {'firstName': 'SAURABH', 'lastName': 'BAIRAGI'},\n",
       "   'contact': {'purpose': 'STANDARD',\n",
       "    'phones': [{'deviceType': 'MOBILE',\n",
       "      'countryCallingCode': '91',\n",
       "      'number': '7771234567'}],\n",
       "    'emailAddress': 'xyz@example.com'}}],\n",
       " 'ticketingAgreement': {'option': 'CONFIRM'},\n",
       " 'automatedProcess': [{'code': 'IMMEDIATE',\n",
       "   'queue': {'number': '0', 'category': '0'},\n",
       "   'officeId': 'NCE4D31SB'}]}"
      ]
     },
     "execution_count": 61,
     "metadata": {},
     "output_type": "execute_result"
    }
   ],
   "source": [
    "booked_flight # eJzTd9cPi7AI9g4EAAutAns%3D  # eJzTd9cPi3D08w0AAAvFAoA%3D"
   ]
  },
  {
   "cell_type": "code",
   "execution_count": 67,
   "metadata": {},
   "outputs": [],
   "source": [
    "s1  = str([0, 'The flight you requested has been booked.'])"
   ]
  },
  {
   "cell_type": "code",
   "execution_count": 68,
   "metadata": {},
   "outputs": [
    {
     "data": {
      "text/plain": [
       "str"
      ]
     },
     "execution_count": 68,
     "metadata": {},
     "output_type": "execute_result"
    }
   ],
   "source": [
    "type(s1)"
   ]
  },
  {
   "cell_type": "code",
   "execution_count": 70,
   "metadata": {},
   "outputs": [],
   "source": [
    "import ast"
   ]
  },
  {
   "cell_type": "code",
   "execution_count": 71,
   "metadata": {},
   "outputs": [
    {
     "data": {
      "text/plain": [
       "[0, 'The flight you requested has been booked.']"
      ]
     },
     "execution_count": 71,
     "metadata": {},
     "output_type": "execute_result"
    }
   ],
   "source": [
    "ast.literal_eval(s1)"
   ]
  },
  {
   "cell_type": "code",
   "execution_count": 72,
   "metadata": {},
   "outputs": [],
   "source": [
    "from traveler_information import get_info"
   ]
  },
  {
   "cell_type": "code",
   "execution_count": 73,
   "metadata": {},
   "outputs": [
    {
     "data": {
      "text/plain": [
       "{'id': '1',\n",
       " 'dateOfBirth': '1982-01-16',\n",
       " 'name': {'firstName': 'SAURABH', 'lastName': 'BAIRAGI'},\n",
       " 'gender': 'MALE',\n",
       " 'contact': {'emailAddress': 'xyz@example.com',\n",
       "  'phones': [{'deviceType': 'MOBILE',\n",
       "    'countryCallingCode': '91',\n",
       "    'number': '7771234567'}]}}"
      ]
     },
     "execution_count": 73,
     "metadata": {},
     "output_type": "execute_result"
    }
   ],
   "source": [
    "get_info(\"My name is Saurabh Bairagi, Male. I was born on 1982-01-16, email is xyz@example.com, and phone no. is 7771234567 with country code as 91\")"
   ]
  },
  {
   "cell_type": "code",
   "execution_count": 79,
   "metadata": {},
   "outputs": [
    {
     "data": {
      "text/plain": [
       "'VXANMP'"
      ]
     },
     "execution_count": 79,
     "metadata": {},
     "output_type": "execute_result"
    }
   ],
   "source": [
    "pnr_no = booked_flight['associatedRecords'][0]['reference']"
   ]
  },
  {
   "cell_type": "code",
   "execution_count": 75,
   "metadata": {},
   "outputs": [
    {
     "data": {
      "text/plain": [
       "'eJzTd9cPi3D08w0AAAvFAoA%3D'"
      ]
     },
     "execution_count": 75,
     "metadata": {},
     "output_type": "execute_result"
    }
   ],
   "source": [
    "id_ = booked_flight['id']"
   ]
  },
  {
   "cell_type": "code",
   "execution_count": null,
   "metadata": {},
   "outputs": [],
   "source": [
    "llm_chain = LLMChain(llm=llm, prompt=prompt_template)\n",
    "\n",
    "# Function to convert input text to JSON using GPT\n",
    "def convert_to_dict(text):\n",
    "    response = llm_chain.run(text=text).strip()\n",
    "    try:\n",
    "        # Directly parse the response into a dictionary\n",
    "        parsed_response = json.loads(response)\n",
    "        return parsed_response\n",
    "    except json.JSONDecodeError as e:\n",
    "        raise ValueError(f\"Failed to parse JSON from response: {response}\") from e"
   ]
  }
 ],
 "metadata": {
  "kernelspec": {
   "display_name": "sb",
   "language": "python",
   "name": "python3"
  },
  "language_info": {
   "codemirror_mode": {
    "name": "ipython",
    "version": 3
   },
   "file_extension": ".py",
   "mimetype": "text/x-python",
   "name": "python",
   "nbconvert_exporter": "python",
   "pygments_lexer": "ipython3",
   "version": "3.11.8"
  }
 },
 "nbformat": 4,
 "nbformat_minor": 2
}
